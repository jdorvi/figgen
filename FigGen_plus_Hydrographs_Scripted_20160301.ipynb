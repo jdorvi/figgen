{
 "cells": [
  {
   "cell_type": "markdown",
   "metadata": {},
   "source": [
    "# About this script\n",
    "This script is written in python 2.7 using the jupyter notebook app. It relies on externally linked libraries that are freely available and easy to install for Linux systems, but a bitch to get working on windows. The necessary prerequisits to use this program are: <br><br>\n",
    "1) FigureGenerator49.f90 - the uncompiled fortran code is available at www.caseydietrich.com <br>\n",
    "2) a fortran compiler - (gfortran works well) to compile the previous script into a binary executable <br>\n",
    "3) GMT 4.5.x - This is available in repositories of most debian based Linux OSs and is easily installed using apt-get.<br>\n",
    "4) ghostscript - also available from repositories using apt-get<br>\n",
    "5) imagemagick - also available from repositories using apt-get<br><br>\n",
    "Once you have a system up and running with these prerequisits you should get example input files for FigureGenerator from Casey Dietrich's website and edit them to fit your needs. \n",
    "!Hint! Keep your temporary folder path as short as possible to avoid getting overflow errors from Fortran.<br><br>\n",
    "In a test case the entire thing took about 7 minutes to run through two storm folders, so a harddrive with ~20 storms should take around 1 hour and 10 minutes.<br>\n",
    "Test case 2: 25 storm folder in 1 hour and 46 minutes."
   ]
  },
  {
   "cell_type": "markdown",
   "metadata": {},
   "source": [
    "# Import modules"
   ]
  },
  {
   "cell_type": "code",
   "execution_count": 1,
   "metadata": {
    "collapsed": true
   },
   "outputs": [],
   "source": [
    "import os\n",
    "import subprocess\n",
    "import shutil"
   ]
  },
  {
   "cell_type": "markdown",
   "metadata": {},
   "source": [
    "# Define sub-functions"
   ]
  },
  {
   "cell_type": "code",
   "execution_count": 2,
   "metadata": {
    "collapsed": true
   },
   "outputs": [],
   "source": [
    "def plot_hydrograph(input_file):\n",
    "    #Import modules\n",
    "    %matplotlib inline\n",
    "    import matplotlib as mpl\n",
    "    mpl.style.use(['ggplot','bmh'])\n",
    "    import matplotlib.pyplot as plt\n",
    "    import pandas as pd\n",
    "    import os\n",
    "    import numpy as np\n",
    "\n",
    "    #List of Stations \n",
    "    stations = ['NOAA - St. Petersburg',\n",
    "                'NOAA - Port Manatee',\n",
    "                \"USGS 02299735 - Venice Inlet at Crow's Nest Marina\",\n",
    "                'USGS 02293332 - Charlotte Harbor at Port Boca Grande',\n",
    "                'USGS 02299230 - Myakka River at North Port Charlotte',\n",
    "                'USGS 02297460 - Peace River at Harbour Heights',\n",
    "                'NOAA - Fort Myers',\n",
    "                'USF - Matanzas Pass',\n",
    "                'USF - Big Carlos Pass',\n",
    "                'USF - Spring Creek',\n",
    "                'NOAA - Naples',\n",
    "                'USGS 02290928 - Barron River at Everglades City'\n",
    "               ]\n",
    "\n",
    "    #Import Data\n",
    "    f = open(input_file,'r')\n",
    "\n",
    "    header     = f.readline()\n",
    "    Header     = \" \".join(header.split())\n",
    "    parameters = f.readline()\n",
    "    Parameters = \" \".join(parameters.split()).split(' ',5)\n",
    "\n",
    "    NTRSPE            = int(Parameters[0])\n",
    "    NSTAE             = int(Parameters[1])\n",
    "    DT_TIMES_NSPOOLGE = Parameters[2]\n",
    "    NSPOOLGE          = Parameters[3]\n",
    "    IRTYPE            = Parameters[4]\n",
    "\n",
    "    index    = np.arange(NTRSPE)\n",
    "    Index    = map(str,index.tolist())\n",
    "    columns  = ['TIME','IT']\n",
    "    numbered = np.arange(NSTAE)+1\n",
    "    Numbers  = map(str,numbered.tolist())\n",
    "    columns.extend(Numbers)\n",
    "\n",
    "    df = pd.DataFrame(index=index,columns=columns)\n",
    "\n",
    "    for i in range(NTRSPE):\n",
    "        data = f.readline()\n",
    "        Data = map(float,\" \".join(data.split()).split(' ',1))\n",
    "        df['TIME'][i] = Data[0]/(24*3600) \n",
    "        df['IT'][i]   = Data[1]\n",
    "        for j in range(NSTAE):\n",
    "            data2 = f.readline()\n",
    "            Data2 = map(float,\" \".join(data2.split()).split(' ',1))\n",
    "            if Data2[1] == -99999:\n",
    "                df[str(j+1)][i] = np.nan\n",
    "            else:\n",
    "                df[str(j+1)][i] = Data2[1]\n",
    "    f.close()\n",
    "\n",
    "    #Plot Hydrographs\n",
    "    fig, axs = plt.subplots(NSTAE,1,figsize=(12,NSTAE*3)) \n",
    "    fig.suptitle(input_file.rsplit('/',2)[1],fontsize=18)\n",
    "    for i in range(NSTAE):\n",
    "        axs[i].grid(True)\n",
    "        axs[i].set_title(stations[i])\n",
    "        axs[i].plot(df['TIME'].tolist(),\n",
    "                    df[str(i+1)].tolist())\n",
    "        axs[i].set_ylabel(\"Elevation (m)\")\n",
    "        axs[i].set_xlabel(\"Time (days)\")        \n",
    "        axs[i].tick_params(axis='both',labelsize=12)   \n",
    "    for i in range(NSTAE-1):\n",
    "        axs[i].set_xlabel(\"\")\n",
    "        axs[i].tick_params(labelbottom='off') # labels along the bottom edge are off\n",
    "    fig.savefig(input_file.rsplit('/',1)[0]+'/hydrographs.jpg',dpi = 200)\n",
    "    fig.savefig(input_file.rsplit('/',1)[0]+'/hydrographs.pdf',dpi = 100)\n",
    "    plt.close(fig)"
   ]
  },
  {
   "cell_type": "code",
   "execution_count": 3,
   "metadata": {
    "collapsed": false
   },
   "outputs": [],
   "source": [
    "def make_figures(parent_directory,Sub_Directs,figgen,Input_Files,other_files):\n",
    "    \n",
    "    os.chdir(parent_directory)\n",
    "\n",
    "    for root, dirs, files in os.walk(parent_directory):\n",
    "        if root != parent_directory and root.rsplit(\"/\",1)[1] not in Sub_Directs:\n",
    "            os.chdir(root)\n",
    "            print(root)\n",
    "            #Hydrograph\n",
    "            if os.path.exists(root+\"/fort.61\") == True:\n",
    "                print(\"Plotting hydrograph \"+root+\"/fort.61\")\n",
    "                plot_hydrograph(root+\"/fort.61\")\n",
    "            #FigGen49\n",
    "            if os.path.exists(root+\"/DSPRatmaxele.63\") == False:\n",
    "                sub_directs = Sub_Directs[:-1]\n",
    "                input_files = Input_Files[:-1]\n",
    "            else:\n",
    "                sub_directs = Sub_Directs\n",
    "                input_files = Input_Files\n",
    "                \n",
    "            for other_file in other_files:\n",
    "                if os.path.exists(root+\"/\"+other_file)==False:\n",
    "                    shutil.copy(parent_directory+\"/\"+other_file,root+\"/\"+other_file)\n",
    "            for input_file in input_files:\n",
    "                if os.path.exists(root+\"/\"+input_file)==False:\n",
    "                    shutil.copy(parent_directory+\"/\"+input_file,root+\"/\"+input_file)\n",
    "            for directory in sub_directs:\n",
    "                if os.path.exists(root+\"/\"+directory) == False:\n",
    "                    os.mkdir(directory)\n",
    "            for input_file in input_files[0:-1]:\n",
    "                subprocess.Popen([root+\"/\"+figgen,\"-I \",input_file])\n",
    "            #NOTE - \n",
    "            #If this subprocess throws an error due to issues with the .inp file it will cause the script to\n",
    "            #begin processing all folders at once, most likely overwhelming your system and causing your computer to \n",
    "            #freeze up. This is a bug that needs to be fixed! JD-2015/12/08\n",
    "            #Parallelization in this script is pretty basic and should be improved\n",
    "            process1 = subprocess.Popen([root+\"/\"+figgen,\"-I\",input_files[-1]],stdout=subprocess.PIPE)\n",
    "            process1.wait()"
   ]
  },
  {
   "cell_type": "code",
   "execution_count": 4,
   "metadata": {
    "collapsed": false
   },
   "outputs": [],
   "source": [
    "def delete_files(parent_directory,sub_directs,figgen,input_files,other_files):\n",
    "\n",
    "    os.chdir(parent_directory)\n",
    "    if os.path.exists(parent_directory+\"QC/\") == False:\n",
    "        os.mkdir(parent_directory+\"QC/\")\n",
    "    for root, dirs, files in os.walk(parent_directory):\n",
    "        bundle_folder = root.rsplit(\"/\",1)[1]\n",
    "        if root != parent_directory and bundle_folder not in sub_directs and root[-2:]!=\"QC\":\n",
    "            os.chdir(root)\n",
    "            print(root)\n",
    "            qcfolder = parent_directory+\"QC/\"+bundle_folder+\"_QC\"\n",
    "            if os.path.exists(qcfolder) == False:\n",
    "                os.mkdir(qcfolder)\n",
    "            for filed in files:\n",
    "                if filed[-3:] == \".ps\":\n",
    "                    os.remove(root+\"/\"+filed)\n",
    "            for other_file in other_files:\n",
    "                if os.path.exists(root+\"/\"+other_file)== True:\n",
    "                    os.remove(root+\"/\"+other_file)\n",
    "            for input_file in input_files:\n",
    "                if os.path.exists(root+\"/\"+input_file)== True:\n",
    "                    os.remove(root+\"/\"+input_file)\n",
    "            for directory in sub_directs:\n",
    "                if os.path.exists(root+\"/\"+directory) == True:\n",
    "                    os.rmdir(directory)\n",
    "            for filed in files:\n",
    "                if filed[-4:] == \".jpg\" or filed[-4:] == \".pdf\":\n",
    "                    shutil.move(filed,qcfolder)"
   ]
  },
  {
   "cell_type": "markdown",
   "metadata": {},
   "source": [
    "# Set variables"
   ]
  },
  {
   "cell_type": "code",
   "execution_count": 9,
   "metadata": {
    "collapsed": false
   },
   "outputs": [],
   "source": [
    "parent_directory = \"/mnt/runsv7/trop/\"\n",
    "figgen = \"FigureGen49.sh\"\n",
    "Sub_Directs = [\"T1\",\n",
    "               \"T2\",\n",
    "               \"T3\",\n",
    "               \"T4\",\n",
    "               \"T5\",\n",
    "               \"T6\",\n",
    "               \"T7\",\n",
    "               \"T8\",\n",
    "               \"T9\"\n",
    "              ]\n",
    "Input_Files = [\"maxele_overview.inp\",\n",
    "               \"maxvel_overview.inp\",\n",
    "               \"maxwvel_overview.inp\",\n",
    "               \"minpr_overview.inp\",\n",
    "               \"maxrs_overview.inp\",                   \n",
    "               \"HSatmaxele_overview.inp\",                   \n",
    "               \"TPSatmaxele_overview.inp\",                   \n",
    "               \"DIRatmaxele_overview.inp\",\n",
    "               \"DSPRatmaxele_overview.inp\",\n",
    "              ]\n",
    "other_files = [\"RAMPP_Logo.eps\",\n",
    "               \"Default2.pal\",\n",
    "               \"labels_SWFL.txt\",\n",
    "               figgen\n",
    "              ]"
   ]
  },
  {
   "cell_type": "markdown",
   "metadata": {},
   "source": [
    "# Make Figures"
   ]
  },
  {
   "cell_type": "code",
   "execution_count": 10,
   "metadata": {
    "collapsed": false
   },
   "outputs": [
    {
     "name": "stdout",
     "output_type": "stream",
     "text": [
      "/mnt/runsv7/trop/OS1_HC_LF_D_0001_008\n",
      "Plotting hydrograph /mnt/runsv7/trop/OS1_HC_LF_D_0001_008/fort.61\n",
      "/mnt/runsv7/trop/.ipynb_checkpoints\n",
      "/mnt/runsv7/trop/OS1_HC_LF_B_0005_005\n",
      "Plotting hydrograph /mnt/runsv7/trop/OS1_HC_LF_B_0005_005/fort.61\n",
      "/mnt/runsv7/trop/OS1_HC_LF_C_0001_007\n",
      "Plotting hydrograph /mnt/runsv7/trop/OS1_HC_LF_C_0001_007/fort.61\n",
      "/mnt/runsv7/trop/OS1_HC_LF_C_0001_008\n",
      "Plotting hydrograph /mnt/runsv7/trop/OS1_HC_LF_C_0001_008/fort.61\n",
      "/mnt/runsv7/trop/OS1_HC_LF_C_0005_005\n",
      "Plotting hydrograph /mnt/runsv7/trop/OS1_HC_LF_C_0005_005/fort.61\n",
      "/mnt/runsv7/trop/OS1_HC_LF_C_0005_006\n",
      "Plotting hydrograph /mnt/runsv7/trop/OS1_HC_LF_C_0005_006/fort.61\n",
      "/mnt/runsv7/trop/OS1_HC_LF_D_0001_005\n",
      "Plotting hydrograph /mnt/runsv7/trop/OS1_HC_LF_D_0001_005/fort.61\n",
      "/mnt/runsv7/trop/OS1_HC_LF_D_0001_006\n",
      "Plotting hydrograph /mnt/runsv7/trop/OS1_HC_LF_D_0001_006/fort.61\n",
      "/mnt/runsv7/trop/OS1_HC_LF_D_0001_007\n",
      "Plotting hydrograph /mnt/runsv7/trop/OS1_HC_LF_D_0001_007/fort.61\n",
      "/mnt/runsv7/trop/OS1_HC_LF_D_0004_005\n",
      "Plotting hydrograph /mnt/runsv7/trop/OS1_HC_LF_D_0004_005/fort.61\n",
      "/mnt/runsv7/trop/OS1_HC_LF_D_0004_006\n",
      "Plotting hydrograph /mnt/runsv7/trop/OS1_HC_LF_D_0004_006/fort.61\n",
      "/mnt/runsv7/trop/OS1_HC_LF_D_0007_006\n",
      "Plotting hydrograph /mnt/runsv7/trop/OS1_HC_LF_D_0007_006/fort.61\n",
      "/mnt/runsv7/trop/OS1_HC_LF_D_0007_007\n",
      "Plotting hydrograph /mnt/runsv7/trop/OS1_HC_LF_D_0007_007/fort.61\n",
      "/mnt/runsv7/trop/OS1_HC_LF_D_0008_009\n",
      "Plotting hydrograph /mnt/runsv7/trop/OS1_HC_LF_D_0008_009/fort.61\n",
      "/mnt/runsv7/trop/OS1_HC_LF_D_0009_005\n",
      "Plotting hydrograph /mnt/runsv7/trop/OS1_HC_LF_D_0009_005/fort.61\n",
      "/mnt/runsv7/trop/OS1_HC_LF_D_0009_006\n",
      "Plotting hydrograph /mnt/runsv7/trop/OS1_HC_LF_D_0009_006/fort.61\n",
      "/mnt/runsv7/trop/OS1_HC_LF_D_0009_007\n",
      "Plotting hydrograph /mnt/runsv7/trop/OS1_HC_LF_D_0009_007/fort.61\n",
      "/mnt/runsv7/trop/OS1_HC_LF_D_0014_005\n",
      "Plotting hydrograph /mnt/runsv7/trop/OS1_HC_LF_D_0014_005/fort.61\n",
      "/mnt/runsv7/trop/OS1_HC_LF_D_0015_005\n",
      "Plotting hydrograph /mnt/runsv7/trop/OS1_HC_LF_D_0015_005/fort.61\n",
      "/mnt/runsv7/trop/OS1_TS_LF_C_0007_005\n",
      "Plotting hydrograph /mnt/runsv7/trop/OS1_TS_LF_C_0007_005/fort.61\n",
      "/mnt/runsv7/trop/OS1_TS_LF_D_0003_006\n",
      "Plotting hydrograph /mnt/runsv7/trop/OS1_TS_LF_D_0003_006/fort.61\n",
      "/mnt/runsv7/trop/OS1_TS_LF_D_0003_007\n",
      "Plotting hydrograph /mnt/runsv7/trop/OS1_TS_LF_D_0003_007/fort.61\n",
      "CPU times: user 1min 13s, sys: 58 s, total: 2min 11s\n",
      "Wall time: 1h 9min 31s\n"
     ]
    }
   ],
   "source": [
    "%time make_figures(parent_directory,Sub_Directs,figgen,Input_Files,other_files)"
   ]
  },
  {
   "cell_type": "markdown",
   "metadata": {},
   "source": [
    "# Delete unnecessary files"
   ]
  },
  {
   "cell_type": "code",
   "execution_count": 11,
   "metadata": {
    "collapsed": false
   },
   "outputs": [
    {
     "name": "stdout",
     "output_type": "stream",
     "text": [
      "/mnt/runsv7/trop/OS1_HC_LF_D_0001_008\n",
      "/mnt/runsv7/trop/.ipynb_checkpoints\n",
      "/mnt/runsv7/trop/OS1_HC_LF_B_0005_005\n",
      "/mnt/runsv7/trop/OS1_HC_LF_C_0001_007\n",
      "/mnt/runsv7/trop/OS1_HC_LF_C_0001_008\n",
      "/mnt/runsv7/trop/OS1_HC_LF_C_0005_005\n",
      "/mnt/runsv7/trop/OS1_HC_LF_C_0005_006\n",
      "/mnt/runsv7/trop/OS1_HC_LF_D_0001_005\n",
      "/mnt/runsv7/trop/OS1_HC_LF_D_0001_006\n",
      "/mnt/runsv7/trop/OS1_HC_LF_D_0001_007\n",
      "/mnt/runsv7/trop/OS1_HC_LF_D_0004_005\n",
      "/mnt/runsv7/trop/OS1_HC_LF_D_0004_006\n",
      "/mnt/runsv7/trop/OS1_HC_LF_D_0007_006\n",
      "/mnt/runsv7/trop/OS1_HC_LF_D_0007_007\n",
      "/mnt/runsv7/trop/OS1_HC_LF_D_0008_009\n",
      "/mnt/runsv7/trop/OS1_HC_LF_D_0009_005\n",
      "/mnt/runsv7/trop/OS1_HC_LF_D_0009_006\n",
      "/mnt/runsv7/trop/OS1_HC_LF_D_0009_007\n",
      "/mnt/runsv7/trop/OS1_HC_LF_D_0014_005\n",
      "/mnt/runsv7/trop/OS1_HC_LF_D_0015_005\n",
      "/mnt/runsv7/trop/OS1_TS_LF_C_0007_005\n",
      "/mnt/runsv7/trop/OS1_TS_LF_D_0003_006\n",
      "/mnt/runsv7/trop/OS1_TS_LF_D_0003_007\n",
      "CPU times: user 80 ms, sys: 144 ms, total: 224 ms\n",
      "Wall time: 1.48 s\n"
     ]
    }
   ],
   "source": [
    "%time delete_files(parent_directory,Sub_Directs,figgen,Input_Files,other_files)"
   ]
  },
  {
   "cell_type": "markdown",
   "metadata": {},
   "source": [
    "Created by: Jared Dorvinen on November 23rd 2015 <br>\n",
    "contact at: jdorvinen@dewberry.com"
   ]
  }
 ],
 "metadata": {
  "kernelspec": {
   "display_name": "Python 2",
   "language": "python",
   "name": "python2"
  },
  "language_info": {
   "codemirror_mode": {
    "name": "ipython",
    "version": 2
   },
   "file_extension": ".py",
   "mimetype": "text/x-python",
   "name": "python",
   "nbconvert_exporter": "python",
   "pygments_lexer": "ipython2",
   "version": "2.7.11"
  }
 },
 "nbformat": 4,
 "nbformat_minor": 0
}
